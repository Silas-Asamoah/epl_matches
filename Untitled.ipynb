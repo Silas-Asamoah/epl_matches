{
 "cells": [
  {
   "cell_type": "code",
   "execution_count": 8,
   "metadata": {},
   "outputs": [],
   "source": [
    "import numpy as np\n",
    "import pandas as pd\n",
    "from scipy.stats import poisson, skellam\n",
    "import seaborn as sns\n",
    "import matplotlib.pyplot as plt"
   ]
  },
  {
   "cell_type": "code",
   "execution_count": 2,
   "metadata": {},
   "outputs": [],
   "source": [
    "epl_1617 = pd.read_csv(\"E0.csv\")"
   ]
  },
  {
   "cell_type": "code",
   "execution_count": 3,
   "metadata": {},
   "outputs": [
    {
     "data": {
      "text/html": [
       "<div>\n",
       "<style scoped>\n",
       "    .dataframe tbody tr th:only-of-type {\n",
       "        vertical-align: middle;\n",
       "    }\n",
       "\n",
       "    .dataframe tbody tr th {\n",
       "        vertical-align: top;\n",
       "    }\n",
       "\n",
       "    .dataframe thead th {\n",
       "        text-align: right;\n",
       "    }\n",
       "</style>\n",
       "<table border=\"1\" class=\"dataframe\">\n",
       "  <thead>\n",
       "    <tr style=\"text-align: right;\">\n",
       "      <th></th>\n",
       "      <th>Div</th>\n",
       "      <th>Date</th>\n",
       "      <th>HomeTeam</th>\n",
       "      <th>AwayTeam</th>\n",
       "      <th>FTHG</th>\n",
       "      <th>FTAG</th>\n",
       "      <th>FTR</th>\n",
       "      <th>HTHG</th>\n",
       "      <th>HTAG</th>\n",
       "      <th>HTR</th>\n",
       "      <th>...</th>\n",
       "      <th>BbAv&lt;2.5</th>\n",
       "      <th>BbAH</th>\n",
       "      <th>BbAHh</th>\n",
       "      <th>BbMxAHH</th>\n",
       "      <th>BbAvAHH</th>\n",
       "      <th>BbMxAHA</th>\n",
       "      <th>BbAvAHA</th>\n",
       "      <th>PSCH</th>\n",
       "      <th>PSCD</th>\n",
       "      <th>PSCA</th>\n",
       "    </tr>\n",
       "  </thead>\n",
       "  <tbody>\n",
       "    <tr>\n",
       "      <td>0</td>\n",
       "      <td>E0</td>\n",
       "      <td>13/08/16</td>\n",
       "      <td>Burnley</td>\n",
       "      <td>Swansea</td>\n",
       "      <td>0</td>\n",
       "      <td>1</td>\n",
       "      <td>A</td>\n",
       "      <td>0</td>\n",
       "      <td>0</td>\n",
       "      <td>D</td>\n",
       "      <td>...</td>\n",
       "      <td>1.61</td>\n",
       "      <td>32</td>\n",
       "      <td>-0.25</td>\n",
       "      <td>2.13</td>\n",
       "      <td>2.06</td>\n",
       "      <td>1.86</td>\n",
       "      <td>1.81</td>\n",
       "      <td>2.79</td>\n",
       "      <td>3.16</td>\n",
       "      <td>2.89</td>\n",
       "    </tr>\n",
       "    <tr>\n",
       "      <td>1</td>\n",
       "      <td>E0</td>\n",
       "      <td>13/08/16</td>\n",
       "      <td>Crystal Palace</td>\n",
       "      <td>West Brom</td>\n",
       "      <td>0</td>\n",
       "      <td>1</td>\n",
       "      <td>A</td>\n",
       "      <td>0</td>\n",
       "      <td>0</td>\n",
       "      <td>D</td>\n",
       "      <td>...</td>\n",
       "      <td>1.52</td>\n",
       "      <td>33</td>\n",
       "      <td>-0.50</td>\n",
       "      <td>2.07</td>\n",
       "      <td>2.00</td>\n",
       "      <td>1.90</td>\n",
       "      <td>1.85</td>\n",
       "      <td>2.25</td>\n",
       "      <td>3.15</td>\n",
       "      <td>3.86</td>\n",
       "    </tr>\n",
       "    <tr>\n",
       "      <td>2</td>\n",
       "      <td>E0</td>\n",
       "      <td>13/08/16</td>\n",
       "      <td>Everton</td>\n",
       "      <td>Tottenham</td>\n",
       "      <td>1</td>\n",
       "      <td>1</td>\n",
       "      <td>D</td>\n",
       "      <td>1</td>\n",
       "      <td>0</td>\n",
       "      <td>H</td>\n",
       "      <td>...</td>\n",
       "      <td>1.77</td>\n",
       "      <td>32</td>\n",
       "      <td>0.25</td>\n",
       "      <td>1.91</td>\n",
       "      <td>1.85</td>\n",
       "      <td>2.09</td>\n",
       "      <td>2.00</td>\n",
       "      <td>3.64</td>\n",
       "      <td>3.54</td>\n",
       "      <td>2.16</td>\n",
       "    </tr>\n",
       "    <tr>\n",
       "      <td>3</td>\n",
       "      <td>E0</td>\n",
       "      <td>13/08/16</td>\n",
       "      <td>Hull</td>\n",
       "      <td>Leicester</td>\n",
       "      <td>2</td>\n",
       "      <td>1</td>\n",
       "      <td>H</td>\n",
       "      <td>1</td>\n",
       "      <td>0</td>\n",
       "      <td>H</td>\n",
       "      <td>...</td>\n",
       "      <td>1.67</td>\n",
       "      <td>31</td>\n",
       "      <td>0.25</td>\n",
       "      <td>2.35</td>\n",
       "      <td>2.26</td>\n",
       "      <td>2.03</td>\n",
       "      <td>1.67</td>\n",
       "      <td>4.68</td>\n",
       "      <td>3.50</td>\n",
       "      <td>1.92</td>\n",
       "    </tr>\n",
       "    <tr>\n",
       "      <td>4</td>\n",
       "      <td>E0</td>\n",
       "      <td>13/08/16</td>\n",
       "      <td>Man City</td>\n",
       "      <td>Sunderland</td>\n",
       "      <td>2</td>\n",
       "      <td>1</td>\n",
       "      <td>H</td>\n",
       "      <td>1</td>\n",
       "      <td>0</td>\n",
       "      <td>H</td>\n",
       "      <td>...</td>\n",
       "      <td>2.48</td>\n",
       "      <td>34</td>\n",
       "      <td>-1.50</td>\n",
       "      <td>1.81</td>\n",
       "      <td>1.73</td>\n",
       "      <td>2.20</td>\n",
       "      <td>2.14</td>\n",
       "      <td>1.25</td>\n",
       "      <td>6.50</td>\n",
       "      <td>14.50</td>\n",
       "    </tr>\n",
       "  </tbody>\n",
       "</table>\n",
       "<p>5 rows × 65 columns</p>\n",
       "</div>"
      ],
      "text/plain": [
       "  Div      Date        HomeTeam    AwayTeam  FTHG  FTAG FTR  HTHG  HTAG HTR  \\\n",
       "0  E0  13/08/16         Burnley     Swansea     0     1   A     0     0   D   \n",
       "1  E0  13/08/16  Crystal Palace   West Brom     0     1   A     0     0   D   \n",
       "2  E0  13/08/16         Everton   Tottenham     1     1   D     1     0   H   \n",
       "3  E0  13/08/16            Hull   Leicester     2     1   H     1     0   H   \n",
       "4  E0  13/08/16        Man City  Sunderland     2     1   H     1     0   H   \n",
       "\n",
       "   ... BbAv<2.5  BbAH  BbAHh  BbMxAHH  BbAvAHH  BbMxAHA  BbAvAHA  PSCH  PSCD  \\\n",
       "0  ...     1.61    32  -0.25     2.13     2.06     1.86     1.81  2.79  3.16   \n",
       "1  ...     1.52    33  -0.50     2.07     2.00     1.90     1.85  2.25  3.15   \n",
       "2  ...     1.77    32   0.25     1.91     1.85     2.09     2.00  3.64  3.54   \n",
       "3  ...     1.67    31   0.25     2.35     2.26     2.03     1.67  4.68  3.50   \n",
       "4  ...     2.48    34  -1.50     1.81     1.73     2.20     2.14  1.25  6.50   \n",
       "\n",
       "    PSCA  \n",
       "0   2.89  \n",
       "1   3.86  \n",
       "2   2.16  \n",
       "3   1.92  \n",
       "4  14.50  \n",
       "\n",
       "[5 rows x 65 columns]"
      ]
     },
     "execution_count": 3,
     "metadata": {},
     "output_type": "execute_result"
    }
   ],
   "source": [
    "epl_1617.head() "
   ]
  },
  {
   "cell_type": "code",
   "execution_count": 4,
   "metadata": {},
   "outputs": [
    {
     "data": {
      "text/html": [
       "<div>\n",
       "<style scoped>\n",
       "    .dataframe tbody tr th:only-of-type {\n",
       "        vertical-align: middle;\n",
       "    }\n",
       "\n",
       "    .dataframe tbody tr th {\n",
       "        vertical-align: top;\n",
       "    }\n",
       "\n",
       "    .dataframe thead th {\n",
       "        text-align: right;\n",
       "    }\n",
       "</style>\n",
       "<table border=\"1\" class=\"dataframe\">\n",
       "  <thead>\n",
       "    <tr style=\"text-align: right;\">\n",
       "      <th></th>\n",
       "      <th>HomeTeam</th>\n",
       "      <th>AwayTeam</th>\n",
       "      <th>HomeGoals</th>\n",
       "      <th>AwayGoals</th>\n",
       "    </tr>\n",
       "  </thead>\n",
       "  <tbody>\n",
       "    <tr>\n",
       "      <td>0</td>\n",
       "      <td>Burnley</td>\n",
       "      <td>Swansea</td>\n",
       "      <td>0</td>\n",
       "      <td>1</td>\n",
       "    </tr>\n",
       "    <tr>\n",
       "      <td>1</td>\n",
       "      <td>Crystal Palace</td>\n",
       "      <td>West Brom</td>\n",
       "      <td>0</td>\n",
       "      <td>1</td>\n",
       "    </tr>\n",
       "    <tr>\n",
       "      <td>2</td>\n",
       "      <td>Everton</td>\n",
       "      <td>Tottenham</td>\n",
       "      <td>1</td>\n",
       "      <td>1</td>\n",
       "    </tr>\n",
       "    <tr>\n",
       "      <td>3</td>\n",
       "      <td>Hull</td>\n",
       "      <td>Leicester</td>\n",
       "      <td>2</td>\n",
       "      <td>1</td>\n",
       "    </tr>\n",
       "    <tr>\n",
       "      <td>4</td>\n",
       "      <td>Man City</td>\n",
       "      <td>Sunderland</td>\n",
       "      <td>2</td>\n",
       "      <td>1</td>\n",
       "    </tr>\n",
       "    <tr>\n",
       "      <td>5</td>\n",
       "      <td>Middlesbrough</td>\n",
       "      <td>Stoke</td>\n",
       "      <td>1</td>\n",
       "      <td>1</td>\n",
       "    </tr>\n",
       "    <tr>\n",
       "      <td>6</td>\n",
       "      <td>Southampton</td>\n",
       "      <td>Watford</td>\n",
       "      <td>1</td>\n",
       "      <td>1</td>\n",
       "    </tr>\n",
       "    <tr>\n",
       "      <td>7</td>\n",
       "      <td>Arsenal</td>\n",
       "      <td>Liverpool</td>\n",
       "      <td>3</td>\n",
       "      <td>4</td>\n",
       "    </tr>\n",
       "  </tbody>\n",
       "</table>\n",
       "</div>"
      ],
      "text/plain": [
       "         HomeTeam    AwayTeam  HomeGoals  AwayGoals\n",
       "0         Burnley     Swansea          0          1\n",
       "1  Crystal Palace   West Brom          0          1\n",
       "2         Everton   Tottenham          1          1\n",
       "3            Hull   Leicester          2          1\n",
       "4        Man City  Sunderland          2          1\n",
       "5   Middlesbrough       Stoke          1          1\n",
       "6     Southampton     Watford          1          1\n",
       "7         Arsenal   Liverpool          3          4"
      ]
     },
     "execution_count": 4,
     "metadata": {},
     "output_type": "execute_result"
    }
   ],
   "source": [
    "epl_1617 = epl_1617[['HomeTeam','AwayTeam','FTHG','FTAG']]\n",
    "epl_1617 = epl_1617.rename(columns={'FTHG':'HomeGoals', 'FTAG':'AwayGoals'})\n",
    "epl_1617.head(8)"
   ]
  },
  {
   "cell_type": "code",
   "execution_count": 5,
   "metadata": {},
   "outputs": [
    {
     "data": {
      "text/plain": [
       "HomeGoals    1.591892\n",
       "AwayGoals    1.183784\n",
       "dtype: float64"
      ]
     },
     "execution_count": 5,
     "metadata": {},
     "output_type": "execute_result"
    }
   ],
   "source": [
    "epl_1617 = epl_1617[:-10]\n",
    "epl_1617.mean()"
   ]
  },
  {
   "cell_type": "code",
   "execution_count": 6,
   "metadata": {},
   "outputs": [
    {
     "data": {
      "text/plain": [
       "array([[2.03540171e-01, 3.06118259e-01],\n",
       "       [3.24013948e-01, 3.62377831e-01],\n",
       "       [2.57897589e-01, 2.14488500e-01],\n",
       "       [1.36848360e-01, 8.46360027e-02],\n",
       "       [5.44619487e-02, 2.50476819e-02],\n",
       "       [1.73395069e-02, 5.93020793e-03],\n",
       "       [4.60043674e-03, 1.17001400e-03],\n",
       "       [1.04619971e-03, 1.97863371e-04]])"
      ]
     },
     "execution_count": 6,
     "metadata": {},
     "output_type": "execute_result"
    }
   ],
   "source": [
    "poisson_pred = np.column_stack([[poisson.pmf(i, epl_1617.mean()[j]) for i in range(8)] for j in range(2)])\n",
    "poisson_pred"
   ]
  },
  {
   "cell_type": "code",
   "execution_count": 10,
   "metadata": {},
   "outputs": [
    {
     "data": {
      "image/png": "[encoded data removed]",
      "text/plain": [
       "<Figure size 432x288 with 1 Axes>"
      ]
     },
     "metadata": {
      "needs_background": "light"
     },
     "output_type": "display_data"
    }
   ],
   "source": [
    "plt.hist(epl_1617[['HomeGoals', 'AwayGoals']].values, range(9), alpha=0.7, label=['Home', 'Away'], density=True, color=[\"#FFA07A\", \"#20B2AA\"])\n",
    "\n",
    "#Lines for Poisson distributions\n",
    "pois1 = plt.plot([i-0.5 for i in range(1,9)], poisson_pred[:,0], linestyle='-', marker='o',label=\"Home\", color='#CD5C5C')\n",
    "pois2 = plt.plot([i-0.5 for i in range(1,9)], poisson_pred[:,1], linestyle='-', marker='o',label=\"Away\", color='#006400')\n",
    "leg = plt.legend(loc='upper right', fontsize=13, ncol=2)\n",
    "leg.set_title(\"Poisson      Actual      \", prop = {'size':'14', 'weight':'bold'})\n",
    "plt.xticks([i-0.5 for i in range(1, 9)], [i for i in range(9)])\n",
    "plt.xlabel(\"Goals per Match\", size=13)\n",
    "plt.ylabel(\"Proportion of Matches\", size=13)\n",
    "plt.title(\"Number of Goals per Match (EPL 2016/17 Season)\", size=14, fontweight='bold')\n",
    "plt.ylim([-0.004, 0.4])\n",
    "plt.tight_layout()\n",
    "plt.show() "
   ]
  },
  {
   "cell_type": "code",
   "execution_count": 11,
   "metadata": {},
   "outputs": [
    {
     "data": {
      "text/plain": [
       "0.24809376810717076"
      ]
     },
     "execution_count": 11,
     "metadata": {},
     "output_type": "execute_result"
    }
   ],
   "source": [
    "#Probability of draw between home and away teams\n",
    "skellam.pmf(0.0, epl_1617.mean()[0], epl_1617.mean()[1])"
   ]
  },
  {
   "cell_type": "code",
   "execution_count": 12,
   "metadata": {},
   "outputs": [
    {
     "data": {
      "text/plain": [
       "0.22706765807563964"
      ]
     },
     "execution_count": 12,
     "metadata": {},
     "output_type": "execute_result"
    }
   ],
   "source": [
    "#Probability of home team winning by one goal\n",
    "skellam.pmf(1, epl_1617.mean()[0], epl_1617.mean()[1])"
   ]
  },
  {
   "cell_type": "code",
   "execution_count": 14,
   "metadata": {},
   "outputs": [
    {
     "data": {
      "text/plain": [
       "[0.00031035888762206905,\n",
       " 0.0016413894537650508,\n",
       " 0.00735016409651767,\n",
       " 0.027043427513958395,\n",
       " 0.07841883834096516,\n",
       " 0.16885506661651978,\n",
       " 0.24809376810717076,\n",
       " 0.22706765807563964,\n",
       " 0.14180866650031265,\n",
       " 0.06576355569936188,\n",
       " 0.024035976580804717,\n",
       " 0.007218011340943169,\n",
       " 0.001835317866093923,\n",
       " 0.0004041164773676143]"
      ]
     },
     "execution_count": 14,
     "metadata": {},
     "output_type": "execute_result"
    }
   ],
   "source": [
    "skellam_pred = [skellam.pmf(i, epl_1617.mean()[0], epl_1617.mean()[1]) for i in range(-6, 8)]\n",
    "skellam_pred"
   ]
  },
  {
   "cell_type": "code",
   "execution_count": null,
   "metadata": {},
   "outputs": [],
   "source": [
    "plt.hist(epl_1617[['HomeGoals']].values - epl_1617[['AwayGoals']].values, range(-6, 8), alpha=0.7, label='Actual', density=True)\n",
    "plt.plot([i+0.5 for i in range(-6,8)], skellam_pred, linestyle='-', marker='o', label=Skellam, color='#CD5C5C')\n",
    "\n",
    "plt.legend(loc='upper right', fontsize=13)\n",
    "plt.xticks([i+0.5 for i in range(-6, 8)], [i for i in range(-6, 8)])\n",
    "plt.xlabel(\"Home Goals - Away Goals\", size=13)\n",
    "plt.ylabel(\"Proportion of Matches\", size=13)\n",
    "plt.title(\"Number of Goals per Match (Home Team vs Away Team)\", size=14, fontweight='bold')\n",
    "plt.ylim([-0.004, 0.26])\n",
    "plt.tight_layout()\n",
    "plt.show() "
   ]
  }
 ],
 "metadata": {
  "kernelspec": {
   "display_name": "Python 3",
   "language": "python",
   "name": "python3"
  },
  "language_info": {
   "codemirror_mode": {
    "name": "ipython",
    "version": 3
   },
   "file_extension": ".py",
   "mimetype": "text/x-python",
   "name": "python",
   "nbconvert_exporter": "python",
   "pygments_lexer": "ipython3",
   "version": "3.6.8"
  }
 },
 "nbformat": 4,
 "nbformat_minor": 2
}
